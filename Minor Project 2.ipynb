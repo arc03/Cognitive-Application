{
 "cells": [
  {
   "cell_type": "code",
   "execution_count": 1,
   "metadata": {},
   "outputs": [
    {
     "name": "stderr",
     "output_type": "stream",
     "text": [
      "Using TensorFlow backend.\n"
     ]
    }
   ],
   "source": [
    "from keras.models import Sequential\n",
    "from keras.layers import Conv2D\n",
    "from keras.layers import MaxPooling2D\n",
    "from keras.layers import Flatten\n",
    "from keras.layers import Dense\n"
   ]
  },
  {
   "cell_type": "code",
   "execution_count": 2,
   "metadata": {},
   "outputs": [],
   "source": [
    "model = Sequential()\n",
    "model.add(Conv2D(32, (3, 3), input_shape = (50, 50, 3), activation = 'relu'))"
   ]
  },
  {
   "cell_type": "code",
   "execution_count": 3,
   "metadata": {},
   "outputs": [],
   "source": [
    "model.add(MaxPooling2D(pool_size = (2, 2)))\n",
    "model.add(Conv2D(32, (3, 3), activation = 'relu'))\n",
    "model.add(MaxPooling2D(pool_size = (2, 2)))"
   ]
  },
  {
   "cell_type": "code",
   "execution_count": 4,
   "metadata": {},
   "outputs": [],
   "source": [
    "model.add(Flatten())"
   ]
  },
  {
   "cell_type": "code",
   "execution_count": 5,
   "metadata": {},
   "outputs": [],
   "source": [
    "model.add(Dense(units = 128, activation = 'relu'))\n",
    "model.add(Dense(units = 1, activation = 'sigmoid'))"
   ]
  },
  {
   "cell_type": "code",
   "execution_count": 6,
   "metadata": {},
   "outputs": [],
   "source": [
    "model.compile(optimizer = 'adam', loss = 'binary_crossentropy', metrics = ['accuracy'])"
   ]
  },
  {
   "cell_type": "code",
   "execution_count": 7,
   "metadata": {},
   "outputs": [],
   "source": [
    "from keras.preprocessing.image import ImageDataGenerator\n",
    "\n",
    "train_datagen = ImageDataGenerator(rescale = 1./255,shear_range = 0.2,zoom_range = 0.2,horizontal_flip = True)"
   ]
  },
  {
   "cell_type": "code",
   "execution_count": 8,
   "metadata": {},
   "outputs": [],
   "source": [
    "url= r\"C:\\Users\\aarushi.DESKTOP-EV4U7BF\\Desktop\\btech\\Data Set\\Cats and Dogs\""
   ]
  },
  {
   "cell_type": "code",
   "execution_count": 9,
   "metadata": {},
   "outputs": [
    {
     "name": "stdout",
     "output_type": "stream",
     "text": [
      "Found 25000 images belonging to 1 classes.\n"
     ]
    }
   ],
   "source": [
    "training_set = train_datagen.flow_from_directory(url,target_size = (50,50), batch_size = 32, class_mode = 'binary')"
   ]
  },
  {
   "cell_type": "code",
   "execution_count": 10,
   "metadata": {},
   "outputs": [
    {
     "name": "stdout",
     "output_type": "stream",
     "text": [
      "Epoch 1/25\n",
      "100/100 [==============================] - 21s 208ms/step - loss: 0.0081 - accuracy: 0.9931\n",
      "Epoch 2/25\n",
      "100/100 [==============================] - 20s 205ms/step - loss: 4.1303e-10 - accuracy: 1.0000\n",
      "Epoch 3/25\n",
      "100/100 [==============================] - 20s 198ms/step - loss: 6.8429e-09 - accuracy: 1.0000\n",
      "Epoch 4/25\n",
      "100/100 [==============================] - 21s 205ms/step - loss: 3.7192e-10 - accuracy: 1.0000\n",
      "Epoch 5/25\n",
      "100/100 [==============================] - 21s 205ms/step - loss: 1.1133e-10 - accuracy: 1.0000\n",
      "Epoch 6/25\n",
      "100/100 [==============================] - 21s 206ms/step - loss: 1.3270e-09 - accuracy: 1.0000\n",
      "Epoch 7/25\n",
      "100/100 [==============================] - 20s 199ms/step - loss: 4.9698e-11 - accuracy: 1.0000\n",
      "Epoch 8/25\n",
      "100/100 [==============================] - 20s 203ms/step - loss: 2.3141e-10 - accuracy: 1.0000\n",
      "Epoch 9/25\n",
      "100/100 [==============================] - 20s 197ms/step - loss: 2.2696e-10 - accuracy: 1.0000\n",
      "Epoch 10/25\n",
      "100/100 [==============================] - 19s 192ms/step - loss: 1.9094e-09 - accuracy: 1.0000\n",
      "Epoch 11/25\n",
      "100/100 [==============================] - 21s 213ms/step - loss: 1.0575e-10 - accuracy: 1.0000\n",
      "Epoch 12/25\n",
      "100/100 [==============================] - 20s 196ms/step - loss: 4.1101e-09 - accuracy: 1.0000\n",
      "Epoch 13/25\n",
      "100/100 [==============================] - 20s 201ms/step - loss: 1.6681e-10 - accuracy: 1.0000\n",
      "Epoch 14/25\n",
      "100/100 [==============================] - 20s 198ms/step - loss: 1.3076e-10 - accuracy: 1.0000\n",
      "Epoch 15/25\n",
      "100/100 [==============================] - 19s 188ms/step - loss: 6.5782e-11 - accuracy: 1.0000\n",
      "Epoch 16/25\n",
      "100/100 [==============================] - 20s 200ms/step - loss: 3.0184e-10 - accuracy: 1.0000\n",
      "Epoch 17/25\n",
      "100/100 [==============================] - 19s 194ms/step - loss: 8.1017e-10 - accuracy: 1.0000\n",
      "Epoch 18/25\n",
      "100/100 [==============================] - 20s 198ms/step - loss: 2.5329e-10 - accuracy: 1.0000\n",
      "Epoch 19/25\n",
      "100/100 [==============================] - 20s 197ms/step - loss: 5.3919e-10 - accuracy: 1.0000\n",
      "Epoch 20/25\n",
      "100/100 [==============================] - 20s 196ms/step - loss: 1.1767e-09 - accuracy: 1.0000\n",
      "Epoch 21/25\n",
      "100/100 [==============================] - 20s 205ms/step - loss: 1.3776e-09 - accuracy: 1.0000\n",
      "Epoch 22/25\n",
      "100/100 [==============================] - 20s 196ms/step - loss: 7.8969e-11 - accuracy: 1.0000\n",
      "Epoch 23/25\n",
      "100/100 [==============================] - 20s 204ms/step - loss: 3.0485e-10 - accuracy: 1.0000\n",
      "Epoch 24/25\n",
      "100/100 [==============================] - 20s 202ms/step - loss: 2.4791e-09 - accuracy: 1.0000\n",
      "Epoch 25/25\n",
      "100/100 [==============================] - 20s 204ms/step - loss: 1.8188e-09 - accuracy: 1.0000\n"
     ]
    },
    {
     "data": {
      "text/plain": [
       "<keras.callbacks.callbacks.History at 0x1e9a60b4748>"
      ]
     },
     "execution_count": 10,
     "metadata": {},
     "output_type": "execute_result"
    }
   ],
   "source": [
    "model.fit_generator(training_set,\n",
    "                         steps_per_epoch = 100,\n",
    "                         epochs = 25,\n",
    "                         validation_steps = 2000)"
   ]
  },
  {
   "cell_type": "code",
   "execution_count": 11,
   "metadata": {},
   "outputs": [],
   "source": [
    "model_json = model.to_json()\n",
    "with open(\"./model.json\",\"w\") as json_file:\n",
    "  json_file.write(model_json)"
   ]
  },
  {
   "cell_type": "code",
   "execution_count": 12,
   "metadata": {},
   "outputs": [
    {
     "name": "stdout",
     "output_type": "stream",
     "text": [
      "Classifier trained Successfully!\n"
     ]
    }
   ],
   "source": [
    "model.save_weights(\"./model.h5\")\n",
    "\n",
    "print(\"Classifier trained Successfully!\")"
   ]
  },
  {
   "cell_type": "code",
   "execution_count": 13,
   "metadata": {},
   "outputs": [],
   "source": [
    "from keras.models import model_from_json\n",
    "\n",
    "import numpy as np"
   ]
  },
  {
   "cell_type": "code",
   "execution_count": 14,
   "metadata": {},
   "outputs": [],
   "source": [
    "import cv2"
   ]
  },
  {
   "cell_type": "code",
   "execution_count": 15,
   "metadata": {},
   "outputs": [],
   "source": [
    "json_file = open('./model.json', 'r')\n",
    "loaded_model_json = json_file.read()\n",
    "json_file.close()\n",
    "loaded_model = model_from_json(loaded_model_json)"
   ]
  },
  {
   "cell_type": "code",
   "execution_count": 16,
   "metadata": {},
   "outputs": [
    {
     "name": "stdout",
     "output_type": "stream",
     "text": [
      "Loaded model from disk\n"
     ]
    }
   ],
   "source": [
    "loaded_model.load_weights(\"./model.h5\")\n",
    "print(\"Loaded model from disk\")"
   ]
  },
  {
   "cell_type": "code",
   "execution_count": 17,
   "metadata": {},
   "outputs": [
    {
     "name": "stdout",
     "output_type": "stream",
     "text": [
      "Loaded model from disk\n"
     ]
    }
   ],
   "source": [
    "print(\"Loaded model from disk\")"
   ]
  },
  {
   "cell_type": "code",
   "execution_count": 18,
   "metadata": {},
   "outputs": [],
   "source": [
    "loaded_model.compile(optimizer = 'adam', loss = 'binary_crossentropy', metrics = ['accuracy'])"
   ]
  },
  {
   "cell_type": "code",
   "execution_count": 33,
   "metadata": {},
   "outputs": [
    {
     "name": "stdout",
     "output_type": "stream",
     "text": [
      "[[[134 155 187]\n",
      "  [136 157 189]\n",
      "  [138 159 191]\n",
      "  ...\n",
      "  [ 76  79 110]\n",
      "  [ 58  61  92]\n",
      "  [ 41  44  75]]\n",
      "\n",
      " [[139 160 192]\n",
      "  [142 163 195]\n",
      "  [146 167 199]\n",
      "  ...\n",
      "  [ 69  72 103]\n",
      "  [ 53  56  87]\n",
      "  [ 37  40  71]]\n",
      "\n",
      " [[144 165 197]\n",
      "  [148 169 201]\n",
      "  [152 173 205]\n",
      "  ...\n",
      "  [ 60  63  94]\n",
      "  [ 45  48  79]\n",
      "  [ 33  36  67]]\n",
      "\n",
      " ...\n",
      "\n",
      " [[ 80 101 183]\n",
      "  [ 82 103 185]\n",
      "  [ 82 103 185]\n",
      "  ...\n",
      "  [169 174 195]\n",
      "  [169 174 195]\n",
      "  [169 174 195]]\n",
      "\n",
      " [[ 79 100 182]\n",
      "  [ 81 102 184]\n",
      "  [ 82 103 185]\n",
      "  ...\n",
      "  [168 173 194]\n",
      "  [166 171 192]\n",
      "  [165 170 191]]\n",
      "\n",
      " [[ 79 100 182]\n",
      "  [ 81 102 184]\n",
      "  [ 82 103 185]\n",
      "  ...\n",
      "  [168 173 194]\n",
      "  [165 170 191]\n",
      "  [163 168 189]]]\n"
     ]
    }
   ],
   "source": [
    "img = cv2.imread(r\"C:\\Users\\aarushi.DESKTOP-EV4U7BF\\Desktop\\btech\\Data Set\\test1\\6.jpg\")\n",
    "print(img)\n"
   ]
  },
  {
   "cell_type": "code",
   "execution_count": 34,
   "metadata": {},
   "outputs": [
    {
     "name": "stdout",
     "output_type": "stream",
     "text": [
      "(50, 50, 3)\n",
      "(1, 50, 50, 3)\n"
     ]
    }
   ],
   "source": [
    "img = cv2.resize(img, (50,50))\n",
    "print(img.shape)\n",
    "img = img.reshape(1, 50, 50, 3)\n",
    "\n",
    "print(img.shape)"
   ]
  },
  {
   "cell_type": "code",
   "execution_count": 37,
   "metadata": {},
   "outputs": [
    {
     "name": "stdout",
     "output_type": "stream",
     "text": [
      "\n",
      "Hey , Its a cat\n"
     ]
    }
   ],
   "source": [
    "result = loaded_model.predict_classes(img)\n",
    "print()\n",
    "\n",
    "if(result[0][0] == 1):\n",
    "    print(\"Hey , Its a Dog\")\n",
    "else:\n",
    "    print(\"Hey , Its a cat\") "
   ]
  },
  {
   "cell_type": "code",
   "execution_count": null,
   "metadata": {},
   "outputs": [],
   "source": []
  }
 ],
 "metadata": {
  "kernelspec": {
   "display_name": "Python 3",
   "language": "python",
   "name": "python3"
  },
  "language_info": {
   "codemirror_mode": {
    "name": "ipython",
    "version": 3
   },
   "file_extension": ".py",
   "mimetype": "text/x-python",
   "name": "python",
   "nbconvert_exporter": "python",
   "pygments_lexer": "ipython3",
   "version": "3.6.13"
  }
 },
 "nbformat": 4,
 "nbformat_minor": 4
}
